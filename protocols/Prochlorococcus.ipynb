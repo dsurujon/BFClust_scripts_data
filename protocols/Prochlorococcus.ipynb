{
 "cells": [
  {
   "cell_type": "code",
   "execution_count": 1,
   "metadata": {},
   "outputs": [],
   "source": [
    "import pandas as pd"
   ]
  },
  {
   "cell_type": "code",
   "execution_count": 2,
   "metadata": {},
   "outputs": [
    {
     "data": {
      "text/html": [
       "<div>\n",
       "<style scoped>\n",
       "    .dataframe tbody tr th:only-of-type {\n",
       "        vertical-align: middle;\n",
       "    }\n",
       "\n",
       "    .dataframe tbody tr th {\n",
       "        vertical-align: top;\n",
       "    }\n",
       "\n",
       "    .dataframe thead th {\n",
       "        text-align: right;\n",
       "    }\n",
       "</style>\n",
       "<table border=\"1\" class=\"dataframe\">\n",
       "  <thead>\n",
       "    <tr style=\"text-align: right;\">\n",
       "      <th></th>\n",
       "      <th>Unnamed: 0</th>\n",
       "      <th>Tree 0</th>\n",
       "      <th>Tree 1</th>\n",
       "      <th>Tree 2</th>\n",
       "      <th>Tree 3</th>\n",
       "      <th>Tree 4</th>\n",
       "      <th>Tree 5</th>\n",
       "      <th>Tree 6</th>\n",
       "      <th>Tree 7</th>\n",
       "      <th>Tree 8</th>\n",
       "      <th>Tree 9</th>\n",
       "      <th>Consensus Cluster</th>\n",
       "      <th>Item Consensus Score</th>\n",
       "    </tr>\n",
       "  </thead>\n",
       "  <tbody>\n",
       "    <tr>\n",
       "      <th>0</th>\n",
       "      <td>EV12_0001</td>\n",
       "      <td>3</td>\n",
       "      <td>2</td>\n",
       "      <td>1</td>\n",
       "      <td>4</td>\n",
       "      <td>0</td>\n",
       "      <td>3</td>\n",
       "      <td>0</td>\n",
       "      <td>47</td>\n",
       "      <td>4</td>\n",
       "      <td>0</td>\n",
       "      <td>18</td>\n",
       "      <td>0.155083</td>\n",
       "    </tr>\n",
       "    <tr>\n",
       "      <th>1</th>\n",
       "      <td>EV12_0002</td>\n",
       "      <td>16</td>\n",
       "      <td>9</td>\n",
       "      <td>12</td>\n",
       "      <td>32</td>\n",
       "      <td>13</td>\n",
       "      <td>13</td>\n",
       "      <td>36</td>\n",
       "      <td>38</td>\n",
       "      <td>24</td>\n",
       "      <td>21</td>\n",
       "      <td>5363</td>\n",
       "      <td>0.065455</td>\n",
       "    </tr>\n",
       "    <tr>\n",
       "      <th>2</th>\n",
       "      <td>EV12_0003</td>\n",
       "      <td>1130</td>\n",
       "      <td>831</td>\n",
       "      <td>168</td>\n",
       "      <td>451</td>\n",
       "      <td>446</td>\n",
       "      <td>621</td>\n",
       "      <td>346</td>\n",
       "      <td>1137</td>\n",
       "      <td>983</td>\n",
       "      <td>805</td>\n",
       "      <td>1914</td>\n",
       "      <td>1.000000</td>\n",
       "    </tr>\n",
       "    <tr>\n",
       "      <th>3</th>\n",
       "      <td>EV12_0004</td>\n",
       "      <td>736</td>\n",
       "      <td>1422</td>\n",
       "      <td>1414</td>\n",
       "      <td>866</td>\n",
       "      <td>1427</td>\n",
       "      <td>1521</td>\n",
       "      <td>1177</td>\n",
       "      <td>1236</td>\n",
       "      <td>1497</td>\n",
       "      <td>1016</td>\n",
       "      <td>1365</td>\n",
       "      <td>1.000000</td>\n",
       "    </tr>\n",
       "    <tr>\n",
       "      <th>4</th>\n",
       "      <td>EV12_0005</td>\n",
       "      <td>1723</td>\n",
       "      <td>1758</td>\n",
       "      <td>1483</td>\n",
       "      <td>1618</td>\n",
       "      <td>1312</td>\n",
       "      <td>1486</td>\n",
       "      <td>1607</td>\n",
       "      <td>1740</td>\n",
       "      <td>1741</td>\n",
       "      <td>1659</td>\n",
       "      <td>4771</td>\n",
       "      <td>1.000000</td>\n",
       "    </tr>\n",
       "  </tbody>\n",
       "</table>\n",
       "</div>"
      ],
      "text/plain": [
       "  Unnamed: 0  Tree 0  Tree 1  Tree 2  Tree 3  Tree 4  Tree 5  Tree 6  Tree 7  \\\n",
       "0  EV12_0001       3       2       1       4       0       3       0      47   \n",
       "1  EV12_0002      16       9      12      32      13      13      36      38   \n",
       "2  EV12_0003    1130     831     168     451     446     621     346    1137   \n",
       "3  EV12_0004     736    1422    1414     866    1427    1521    1177    1236   \n",
       "4  EV12_0005    1723    1758    1483    1618    1312    1486    1607    1740   \n",
       "\n",
       "   Tree 8  Tree 9  Consensus Cluster  Item Consensus Score  \n",
       "0       4       0                 18              0.155083  \n",
       "1      24      21               5363              0.065455  \n",
       "2     983     805               1914              1.000000  \n",
       "3    1497    1016               1365              1.000000  \n",
       "4    1741    1659               4771              1.000000  "
      ]
     },
     "execution_count": 2,
     "metadata": {},
     "output_type": "execute_result"
    }
   ],
   "source": [
    "pg = pd.read_csv('Prochlorococcus/cluster_assignments.csv')\n",
    "pg.head()"
   ]
  },
  {
   "cell_type": "code",
   "execution_count": 8,
   "metadata": {},
   "outputs": [
    {
     "data": {
      "text/html": [
       "<div>\n",
       "<style scoped>\n",
       "    .dataframe tbody tr th:only-of-type {\n",
       "        vertical-align: middle;\n",
       "    }\n",
       "\n",
       "    .dataframe tbody tr th {\n",
       "        vertical-align: top;\n",
       "    }\n",
       "\n",
       "    .dataframe thead th {\n",
       "        text-align: right;\n",
       "    }\n",
       "</style>\n",
       "<table border=\"1\" class=\"dataframe\">\n",
       "  <thead>\n",
       "    <tr style=\"text-align: right;\">\n",
       "      <th></th>\n",
       "      <th>Strain</th>\n",
       "      <th>Gene</th>\n",
       "      <th>Cluster</th>\n",
       "    </tr>\n",
       "  </thead>\n",
       "  <tbody>\n",
       "    <tr>\n",
       "      <th>0</th>\n",
       "      <td>EV12</td>\n",
       "      <td>EV12_0001</td>\n",
       "      <td>18</td>\n",
       "    </tr>\n",
       "    <tr>\n",
       "      <th>1</th>\n",
       "      <td>EV12</td>\n",
       "      <td>EV12_0002</td>\n",
       "      <td>5363</td>\n",
       "    </tr>\n",
       "    <tr>\n",
       "      <th>2</th>\n",
       "      <td>EV12</td>\n",
       "      <td>EV12_0003</td>\n",
       "      <td>1914</td>\n",
       "    </tr>\n",
       "    <tr>\n",
       "      <th>3</th>\n",
       "      <td>EV12</td>\n",
       "      <td>EV12_0004</td>\n",
       "      <td>1365</td>\n",
       "    </tr>\n",
       "    <tr>\n",
       "      <th>4</th>\n",
       "      <td>EV12</td>\n",
       "      <td>EV12_0005</td>\n",
       "      <td>4771</td>\n",
       "    </tr>\n",
       "  </tbody>\n",
       "</table>\n",
       "</div>"
      ],
      "text/plain": [
       "  Strain       Gene  Cluster\n",
       "0   EV12  EV12_0001       18\n",
       "1   EV12  EV12_0002     5363\n",
       "2   EV12  EV12_0003     1914\n",
       "3   EV12  EV12_0004     1365\n",
       "4   EV12  EV12_0005     4771"
      ]
     },
     "execution_count": 8,
     "metadata": {},
     "output_type": "execute_result"
    }
   ],
   "source": [
    "clusterout = pd.DataFrame({\n",
    "    'Strain': [i.split('_')[0] for i in pg.iloc[:,0]],\n",
    "    'Gene': list(pg.iloc[:,0]),\n",
    "    'Cluster': list(pg['Consensus Cluster'])\n",
    "})\n",
    "clusterout.head()"
   ]
  },
  {
   "cell_type": "code",
   "execution_count": 9,
   "metadata": {},
   "outputs": [],
   "source": [
    "def cluster_to_wide(LongTable, outfile):\n",
    "    ncluster = len(set(LongTable.Cluster))\n",
    "    mydict = {strain:['' for i in range(0,ncluster)] for strain in list(set(LongTable.Strain))}\n",
    "\n",
    "    WideTable = pd.DataFrame(mydict,index = list(set(LongTable.Cluster)), columns = list(set(LongTable.Strain)))\n",
    "\n",
    "    for i in range(0,LongTable.shape[0]):\n",
    "        c = LongTable.Cluster[i]\n",
    "        s = LongTable.Strain[i]\n",
    "        g = LongTable.Gene[i]\n",
    "\n",
    "        if  WideTable[s][c] == '':\n",
    "            WideTable[s][c]=g\n",
    "        else:\n",
    "             WideTable[s][c] =  WideTable[s][c]+'|'+g\n",
    "\n",
    "    WideTable.to_csv(outfile)\n",
    "    \n",
    "cluster_to_wide(clusterout, 'Prochlorococcus/Prochlorococcus_wide.csv')"
   ]
  },
  {
   "cell_type": "code",
   "execution_count": 10,
   "metadata": {},
   "outputs": [],
   "source": [
    "# Plotting imports# Plott \n",
    "%matplotlib inline\n",
    "\n",
    "import numpy as np\n",
    "import matplotlib.pyplot as plt\n",
    "import seaborn as sns\n",
    "\n",
    "import os\n",
    "\n",
    "sns.set_style('white')"
   ]
  },
  {
   "cell_type": "code",
   "execution_count": 11,
   "metadata": {},
   "outputs": [
    {
     "data": {
      "image/png": "[encoded data removed]",
      "text/plain": [
       "<matplotlib.figure.Figure at 0x1e80fcb4dd8>"
      ]
     },
     "metadata": {},
     "output_type": "display_data"
    }
   ],
   "source": [
    "def pg_hist(infile,outfig):\n",
    "    df = pd.read_csv(infile,index_col = 0)\n",
    "    df.replace(np.nan, 0, regex=True, inplace=True)\n",
    "    df.replace('.{2,100}', 1, regex=True, inplace=True)\n",
    "    \n",
    "    fig = plt.figure(frameon = False)\n",
    "    fig.set_size_inches(8,5)\n",
    "    \n",
    "    sns.distplot(df.sum(axis=1),kde=False)\n",
    "    plt.xlabel('Number of genomes')\n",
    "    plt.ylabel('Number of genes')\n",
    "\n",
    "    sns.despine(left=True,\n",
    "                bottom=True)\n",
    "    plt.savefig(outfig)\n",
    "    \n",
    "pg_hist('Prochlorococcus/Prochlorococcus_wide.csv','Prochlorococcus/Prochlorococcus_hist.png')"
   ]
  },
  {
   "cell_type": "code",
   "execution_count": 12,
   "metadata": {},
   "outputs": [
    {
     "name": "stderr",
     "output_type": "stream",
     "text": [
      "D:\\defne\\Apps\\Anaconda\\lib\\site-packages\\ipykernel_launcher.py:6: DeprecationWarning: \n",
      ".ix is deprecated. Please use\n",
      ".loc for label based indexing or\n",
      ".iloc for positional indexing\n",
      "\n",
      "See the documentation here:\n",
      "http://pandas.pydata.org/pandas-docs/stable/indexing.html#ix-indexer-is-deprecated\n",
      "  \n"
     ]
    },
    {
     "data": {
      "image/png": "[encoded data removed]",
      "text/plain": [
       "<matplotlib.figure.Figure at 0x1e81248c748>"
      ]
     },
     "metadata": {},
     "output_type": "display_data"
    }
   ],
   "source": [
    "def pg_heatmap(infile,outfig):\n",
    "    df = pd.read_csv(infile,index_col = 0)\n",
    "    df.replace(np.nan, 0, regex=True, inplace=True)\n",
    "    df.replace('.{2,100}', 1, regex=True, inplace=True)\n",
    "    idx = df.sum(axis=1).sort_values(ascending=False).index\n",
    "    df_sorted = df.ix[idx]\n",
    "\n",
    "    with sns.axes_style('whitegrid'):\n",
    "        fig = plt.figure(figsize=(17, 10))\n",
    "\n",
    "        plt.imshow(df_sorted.T, cmap=plt.cm.Blues,\n",
    "                   vmin=0, vmax=1,\n",
    "                   aspect='auto',\n",
    "                   interpolation='none',\n",
    "                    )\n",
    "        plt.xlabel('Gene clusters')\n",
    "        plt.ylabel('Strains')\n",
    "        plt.title('Gene matrix\\n(%d gene clusters)'%df.shape[0])\n",
    "        plt.savefig(outfig)\n",
    "        \n",
    "pg_heatmap('Prochlorococcus/Prochlorococcus_wide.csv','Prochlorococcus/Prochlorococcus_heatmap.png')"
   ]
  },
  {
   "cell_type": "code",
   "execution_count": 25,
   "metadata": {},
   "outputs": [
    {
     "data": {
      "image/png": "[encoded data removed]",
      "text/plain": [
       "<matplotlib.figure.Figure at 0x1e8117f03c8>"
      ]
     },
     "metadata": {},
     "output_type": "display_data"
    }
   ],
   "source": [
    "thisdf = pd.read_csv('Prochlorococcus/Prochlorococcus_wide.csv')\n",
    "thisdf.replace(np.nan, 0, regex=True, inplace=True)\n",
    "thisdf.replace('.{2,100}', 1, regex=True, inplace=True)\n",
    "vals = thisdf.iloc[:,1:].sum(axis=1).sort_values(ascending=False)\n",
    "rankdf = pd.DataFrame({'Rank':range(0,len(vals)),\n",
    "                      'Strains':vals})\n",
    "sns.lineplot(data=rankdf, x='Rank',y='Strains')\n",
    "plt.savefig('Prochlorococcus/Prochlorococcus_clusterrank.svg')"
   ]
  },
  {
   "cell_type": "code",
   "execution_count": 22,
   "metadata": {},
   "outputs": [
    {
     "data": {
      "text/html": [
       "<div>\n",
       "<style scoped>\n",
       "    .dataframe tbody tr th:only-of-type {\n",
       "        vertical-align: middle;\n",
       "    }\n",
       "\n",
       "    .dataframe tbody tr th {\n",
       "        vertical-align: top;\n",
       "    }\n",
       "\n",
       "    .dataframe thead th {\n",
       "        text-align: right;\n",
       "    }\n",
       "</style>\n",
       "<table border=\"1\" class=\"dataframe\">\n",
       "  <thead>\n",
       "    <tr style=\"text-align: right;\">\n",
       "      <th></th>\n",
       "      <th>Cluster</th>\n",
       "      <th>Score</th>\n",
       "    </tr>\n",
       "  </thead>\n",
       "  <tbody>\n",
       "    <tr>\n",
       "      <th>0</th>\n",
       "      <td>0</td>\n",
       "      <td>1.000000</td>\n",
       "    </tr>\n",
       "    <tr>\n",
       "      <th>1</th>\n",
       "      <td>1</td>\n",
       "      <td>1.000000</td>\n",
       "    </tr>\n",
       "    <tr>\n",
       "      <th>2</th>\n",
       "      <td>2</td>\n",
       "      <td>0.348889</td>\n",
       "    </tr>\n",
       "    <tr>\n",
       "      <th>3</th>\n",
       "      <td>3</td>\n",
       "      <td>1.000000</td>\n",
       "    </tr>\n",
       "    <tr>\n",
       "      <th>4</th>\n",
       "      <td>4</td>\n",
       "      <td>0.148889</td>\n",
       "    </tr>\n",
       "  </tbody>\n",
       "</table>\n",
       "</div>"
      ],
      "text/plain": [
       "   Cluster     Score\n",
       "0        0  1.000000\n",
       "1        1  1.000000\n",
       "2        2  0.348889\n",
       "3        3  1.000000\n",
       "4        4  0.148889"
      ]
     },
     "execution_count": 22,
     "metadata": {},
     "output_type": "execute_result"
    }
   ],
   "source": [
    "cluster_scores = pd.read_csv('Prochlorococcus/cluster_consensus_scores.csv')\n",
    "cluster_scores.head()"
   ]
  },
  {
   "cell_type": "code",
   "execution_count": 24,
   "metadata": {},
   "outputs": [
    {
     "data": {
      "image/png": "[encoded data removed]",
      "text/plain": [
       "<matplotlib.figure.Figure at 0x1e811955f98>"
      ]
     },
     "metadata": {},
     "output_type": "display_data"
    }
   ],
   "source": [
    "cluster_scores['Number of Strains'] = thisdf.iloc[:,1:].sum(axis=1)\n",
    "sns.scatterplot(data = cluster_scores, x='Number of Strains', y='Score', alpha=0.5)\n",
    "plt.savefig('Prochlorococcus/Prochlorococcus_scores.svg')"
   ]
  },
  {
   "cell_type": "code",
   "execution_count": 26,
   "metadata": {},
   "outputs": [],
   "source": [
    "def select_rand(df,n):\n",
    "    mycols = np.random.choice(df.columns[1:],n,replace=False)\n",
    "    sums = df.loc[:,mycols].sum(axis=1)\n",
    "    corenum = sum([i>n*0.95 for i in sums])\n",
    "    pannum = sum([i>0 for i in sums])\n",
    "    return(corenum, pannum)\n",
    "def make_corepan(infile,outfile):\n",
    "    df = pd.read_csv(infile,index_col = 0)\n",
    "    df.replace(np.nan, 0, regex=True, inplace=True)\n",
    "    df.replace('.{2,100}', 1, regex=True, inplace=True)\n",
    "\n",
    "    nrange = [int(i) for i in np.linspace(1,df.shape[1]-1,10)]\n",
    "    niter = 30\n",
    "\n",
    "    corenums = [0 for i in range(0,len(nrange)*niter)]\n",
    "    pannums = [0 for i in range(0,len(nrange)*niter)]\n",
    "    nstrains = [0 for i in range(0,len(nrange)*niter)]\n",
    "\n",
    "    k=0\n",
    "    for n in nrange:\n",
    "        for i in range(0,niter):\n",
    "            c, p = select_rand(df,n)\n",
    "            corenums[k]=c\n",
    "            pannums[k]=p\n",
    "            nstrains[k]=n\n",
    "            k+=1\n",
    "    types = ['core' for i in range(len(corenums))]+['pan' for i in range(len(corenums))]    \n",
    "    plotdict = {'Strains':nstrains+nstrains,\n",
    "               'Type':types,\n",
    "               'Genes':corenums+pannums}\n",
    "\n",
    "    plotdf = pd.DataFrame(plotdict)\n",
    "    outcsv = os.path.splitext(outfile)[0]+'.csv'\n",
    "    plotdf.to_csv(outcsv,index=False)\n",
    "    sns.lineplot(data=plotdf,x='Strains',y='Genes',hue='Type')\n",
    "    plt.savefig(outfile)\n",
    "    plt.close()\n",
    "    \n",
    "make_corepan('Prochlorococcus/Prochlorococcus_wide.csv', 'Prochlorococcus/Corepan.svg')"
   ]
  },
  {
   "cell_type": "code",
   "execution_count": 27,
   "metadata": {},
   "outputs": [
    {
     "data": {
      "text/plain": [
       "939"
      ]
     },
     "execution_count": 27,
     "metadata": {},
     "output_type": "execute_result"
    }
   ],
   "source": [
    "sum(cluster_scores['Number of Strains']==27)"
   ]
  },
  {
   "cell_type": "code",
   "execution_count": 28,
   "metadata": {},
   "outputs": [
    {
     "data": {
      "text/plain": [
       "(5703, 3)"
      ]
     },
     "execution_count": 28,
     "metadata": {},
     "output_type": "execute_result"
    }
   ],
   "source": [
    "cluster_scores.shape"
   ]
  }
 ],
 "metadata": {
  "kernelspec": {
   "display_name": "Python 3",
   "language": "python",
   "name": "python3"
  },
  "language_info": {
   "codemirror_mode": {
    "name": "ipython",
    "version": 3
   },
   "file_extension": ".py",
   "mimetype": "text/x-python",
   "name": "python",
   "nbconvert_exporter": "python",
   "pygments_lexer": "ipython3",
   "version": "3.6.4"
  }
 },
 "nbformat": 4,
 "nbformat_minor": 2
}
