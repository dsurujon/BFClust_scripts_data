{
 "cells": [
  {
   "cell_type": "markdown",
   "metadata": {},
   "source": [
    "We identified that the majority of the BFClust runtime is spent during Boundary-Tree construction, specifically during the sequence comparison step.     \n",
    "In order to see whether the runtime of BFClust can be further optimized, we compare the time it takes to make a 500x500 pairwise comparison (using the first 500 CDS from *Streptococcus pneumoniae* Strain TIGR4) using either Biopython (what BFClust currently uses in v.0.1.26.2) or blastp. Blastp appears to be 2 orders of magnitude faster. Therefore, swapping the sequence comparison step to include the compiled blastp application can lead to reduced runtime. "
   ]
  },
  {
   "cell_type": "code",
   "execution_count": 1,
   "metadata": {},
   "outputs": [],
   "source": [
    "from Bio import SeqIO\n",
    "from Bio import Align\n",
    "from Bio.Align import substitution_matrices\n",
    "from Bio import pairwise2 as pw2\n",
    "import os\n",
    "import time"
   ]
  },
  {
   "cell_type": "code",
   "execution_count": 2,
   "metadata": {},
   "outputs": [],
   "source": [
    "records = list(SeqIO.parse(\"TIGR4.fasta\", \"fasta\"))\n",
    "n = len(records)"
   ]
  },
  {
   "cell_type": "code",
   "execution_count": 3,
   "metadata": {},
   "outputs": [],
   "source": [
    "aligner = Align.PairwiseAligner()\n",
    "aligner.substitution_matrix = substitution_matrices.load(\"BLOSUM62\")\n",
    "aligner.open_gap_score = -0.5\n",
    "aligner.extend_gap_score = -0.1"
   ]
  },
  {
   "cell_type": "markdown",
   "metadata": {},
   "source": [
    "Runtime using Biopython "
   ]
  },
  {
   "cell_type": "code",
   "execution_count": 4,
   "metadata": {},
   "outputs": [
    {
     "name": "stdout",
     "output_type": "stream",
     "text": [
      "132.70679783821106\n"
     ]
    }
   ],
   "source": [
    "start_time = time.time()\n",
    "for i in range(n):\n",
    "    for j in range(n):\n",
    "        score = aligner.score(records[i].seq, records[j].seq)\n",
    "runtime = time.time() - start_time\n",
    "print(runtime)"
   ]
  },
  {
   "cell_type": "markdown",
   "metadata": {},
   "source": [
    "Runtime using blastp"
   ]
  },
  {
   "cell_type": "code",
   "execution_count": 5,
   "metadata": {},
   "outputs": [
    {
     "name": "stdout",
     "output_type": "stream",
     "text": [
      "0.12857365608215332\n"
     ]
    }
   ],
   "source": [
    "start_time = time.time()\n",
    "os.system('blastp -query TIGR.fasta -subject TIGR.fasta')\n",
    "runtime = time.time() - start_time\n",
    "print(runtime)"
   ]
  }
 ],
 "metadata": {
  "kernelspec": {
   "display_name": "Python 3",
   "language": "python",
   "name": "python3"
  },
  "language_info": {
   "codemirror_mode": {
    "name": "ipython",
    "version": 3
   },
   "file_extension": ".py",
   "mimetype": "text/x-python",
   "name": "python",
   "nbconvert_exporter": "python",
   "pygments_lexer": "ipython3",
   "version": "3.7.4"
  }
 },
 "nbformat": 4,
 "nbformat_minor": 2
}
